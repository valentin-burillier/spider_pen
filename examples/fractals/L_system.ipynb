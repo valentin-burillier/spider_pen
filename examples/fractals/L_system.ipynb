{
 "cells": [
  {
   "cell_type": "markdown",
   "id": "d86079f0-248a-4edb-9d6b-e15bba673d1f",
   "metadata": {
    "tags": []
   },
   "source": [
    "# Docs"
   ]
  },
  {
   "cell_type": "markdown",
   "id": "c5961c17-6d0b-42e4-8ee8-74e705bab6b5",
   "metadata": {},
   "source": [
    "https://en.wikipedia.org/wiki/L-system"
   ]
  },
  {
   "cell_type": "markdown",
   "id": "34bc941e-ec3c-4fd1-ad48-663665c8780c",
   "metadata": {},
   "source": [
    "Alphabet :\n",
    "- F : Se déplacer d’un pas unitaire\n",
    "- $+$ : Tourner à gauche d’angle α\n",
    "- $-$ : Tourner à droite d’un angle α\n",
    "- | : Tourner de 180°\n",
    "- [ : Ajoute la position actuelle à la liste des positions sauvegardées\n",
    "- ] : Réstaure la dernière position suvegardée et l'enlève de la liste\n",
    "- ^ : Lève le crayon\n",
    "- _ : Baisse le crayon"
   ]
  },
  {
   "cell_type": "markdown",
   "id": "6b1364de-dc1f-4c43-80a9-6c92348cea63",
   "metadata": {},
   "source": [
    "# Generator"
   ]
  },
  {
   "cell_type": "code",
   "execution_count": 2,
   "id": "8e4ed78d-8d0b-422e-a22a-fd448f85a1a5",
   "metadata": {},
   "outputs": [],
   "source": [
    "def L_sys(axiom, rules, n_iter):\n",
    "    for _ in range(n_iter):\n",
    "        word = ''\n",
    "        for c in axiom:\n",
    "            try:\n",
    "                word += rules[c]\n",
    "            except:\n",
    "                word += c\n",
    "        axiom = word\n",
    "    return axiom"
   ]
  },
  {
   "cell_type": "code",
   "execution_count": 20,
   "id": "70da41bf-8e3f-42ce-859c-821c6e694cb8",
   "metadata": {},
   "outputs": [],
   "source": [
    "# Dragon curve\n",
    "axiom = 'FX'\n",
    "rules = {'X':'X-YF-', 'Y':'+FX+Y'}\n",
    "angle = 90\n",
    "startheading = 0\n",
    "\n",
    "actions = L_sys(axiom, rules, 8)"
   ]
  },
  {
   "cell_type": "code",
   "execution_count": 31,
   "id": "b9145bfa-3e85-4ca2-ab31-c296efec15c6",
   "metadata": {},
   "outputs": [],
   "source": [
    "# Sierpinski triangle\n",
    "axiom = 'A'\n",
    "rules = {'A':'B-A-B', 'B':'A+B+A'}\n",
    "angle = 60\n",
    "startheading = 0\n",
    "\n",
    "actions = L_sys(axiom, rules, 5)\n",
    "actions = actions.replace('A', 'F').replace('B', 'F')"
   ]
  },
  {
   "cell_type": "code",
   "execution_count": 67,
   "id": "5440f497-a214-4415-99b4-451a55e201ec",
   "metadata": {},
   "outputs": [],
   "source": [
    "# Hilbert curve\n",
    "axiom = 'R'\n",
    "rules = {'L':'-RF+LFL+FR-', 'R':'+LF-RFR-FL+'}\n",
    "angle = 90\n",
    "startheading = 0\n",
    "\n",
    "actions = L_sys(axiom, rules, 4)"
   ]
  },
  {
   "cell_type": "code",
   "execution_count": 35,
   "id": "c07a8f81-4204-46de-adfa-edaf80371630",
   "metadata": {},
   "outputs": [],
   "source": [
    "# Gosper curve\n",
    "axiom = 'A'\n",
    "rules = {'A':'A-B--B+A++AA+B-', 'B':'+A-BB--B-A++A+B'}\n",
    "angle = 60\n",
    "startheading = 270\n",
    "\n",
    "actions = L_sys(axiom, rules, 3)\n",
    "actions = actions.replace('A', 'F').replace('B', 'F')"
   ]
  },
  {
   "cell_type": "code",
   "execution_count": 52,
   "id": "5ec0fe3e-1fe8-47ac-b47b-08c92c5c8a67",
   "metadata": {},
   "outputs": [],
   "source": [
    "# Fractal plant 1 \n",
    "axiom = 'F'\n",
    "rules = {'F':'F[+F]F[-F]F'}\n",
    "angle = 30\n",
    "startheading = 90\n",
    "\n",
    "actions = L_sys(axiom, rules, 3)"
   ]
  },
  {
   "cell_type": "code",
   "execution_count": 62,
   "id": "da460820-d19c-4e77-bb20-3fae4e426054",
   "metadata": {},
   "outputs": [],
   "source": [
    "# Fractal plant 2\n",
    "axiom = 'X'\n",
    "rules = {'X':'F[+X]F[-X]+X', 'F':'FF'}\n",
    "angle = 20\n",
    "startheading = 90\n",
    "\n",
    "actions = L_sys(axiom, rules, 4) "
   ]
  },
  {
   "cell_type": "code",
   "execution_count": 64,
   "id": "60c857e6-e064-42f4-bd86-a127aa1a8cfb",
   "metadata": {},
   "outputs": [],
   "source": [
    "# Fractal plant 3\n",
    "axiom = 'X'\n",
    "rules = {'X':'F-[[X]+X]+F[+FX]-X', 'F':'FF'}\n",
    "angle = 20\n",
    "startheading = 90\n",
    "\n",
    "actions = L_sys(axiom, rules, 4) "
   ]
  },
  {
   "cell_type": "markdown",
   "id": "fa07df06-1f59-4e5f-bc64-d9acbd0e3268",
   "metadata": {
    "tags": []
   },
   "source": [
    "# Visualiser le parcours"
   ]
  },
  {
   "cell_type": "code",
   "execution_count": 4,
   "id": "686eadf8-0e7a-4472-8003-ae824c7971b1",
   "metadata": {},
   "outputs": [],
   "source": [
    "import spiderpen as sp"
   ]
  },
  {
   "cell_type": "code",
   "execution_count": 5,
   "id": "91b2b4f4-2904-4f65-b52d-f2b1e260b3ea",
   "metadata": {},
   "outputs": [],
   "source": [
    "p = sp.Plotter(lenght=820, height=1140)"
   ]
  },
  {
   "cell_type": "code",
   "execution_count": 68,
   "id": "d3643d5e-5441-46b1-84f8-084520e873c2",
   "metadata": {},
   "outputs": [],
   "source": [
    "p.clear()\n",
    "\n",
    "p.setheading(startheading)\n",
    "\n",
    "save = []\n",
    "for act in actions:\n",
    "    if act == 'F':\n",
    "        p.forward(3)\n",
    "    elif act == '+':\n",
    "        p.left(angle)\n",
    "    elif act == '-':\n",
    "        p.right(angle)\n",
    "    elif act == '^':\n",
    "        p.up()\n",
    "    elif act == '_':\n",
    "        p.down()\n",
    "    elif act == '[':\n",
    "        x, y = p.pos()\n",
    "        h = p.heading()\n",
    "        save.append((x, y, h))\n",
    "    elif act == ']':\n",
    "        x, y, h = save.pop(-1)\n",
    "        p.up()\n",
    "        p.goto(x, y)\n",
    "        p.setheading(h)\n",
    "        p.down()"
   ]
  },
  {
   "cell_type": "code",
   "execution_count": 69,
   "id": "86f0b611-46bc-4999-a48b-8099a8f3d6d1",
   "metadata": {},
   "outputs": [
    {
     "data": {
      "image/png": "[encoded data removed]",
      "text/plain": [
       "<Figure size 432x288 with 1 Axes>"
      ]
     },
     "metadata": {
      "needs_background": "light"
     },
     "output_type": "display_data"
    }
   ],
   "source": [
    "p.show()"
   ]
  },
  {
   "cell_type": "markdown",
   "id": "7137d311-59f1-48b8-90d2-dd1becd10bce",
   "metadata": {},
   "source": [
    "# Tracage"
   ]
  },
  {
   "cell_type": "code",
   "execution_count": 12,
   "id": "4321fe5d-0f67-486f-8b59-a4b55e63feab",
   "metadata": {
    "collapsed": true,
    "jupyter": {
     "outputs_hidden": true
    },
    "tags": []
   },
   "outputs": [
    {
     "name": "stderr",
     "output_type": "stream",
     "text": []
    }
   ],
   "source": [
    "p.connect(L_Gi=865, L_Di=870)"
   ]
  },
  {
   "cell_type": "code",
   "execution_count": 14,
   "id": "1eeefc7d-bf05-4bc4-b95d-0308fef591b5",
   "metadata": {},
   "outputs": [],
   "source": [
    "p.draw()"
   ]
  },
  {
   "cell_type": "code",
   "execution_count": 16,
   "id": "7b14f48b-100f-4400-a31a-497af8f0f2bc",
   "metadata": {
    "collapsed": true,
    "jupyter": {
     "outputs_hidden": true
    },
    "tags": []
   },
   "outputs": [],
   "source": [
    "p.home()\n",
    "p.disconnect()"
   ]
  }
 ],
 "metadata": {
  "kernelspec": {
   "display_name": "Python 3 (ipykernel)",
   "language": "python",
   "name": "python3"
  },
  "language_info": {
   "codemirror_mode": {
    "name": "ipython",
    "version": 3
   },
   "file_extension": ".py",
   "mimetype": "text/x-python",
   "name": "python",
   "nbconvert_exporter": "python",
   "pygments_lexer": "ipython3",
   "version": "3.9.12"
  }
 },
 "nbformat": 4,
 "nbformat_minor": 5
}
