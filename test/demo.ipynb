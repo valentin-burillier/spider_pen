{
 "cells": [
  {
   "cell_type": "code",
   "execution_count": 1,
   "id": "073edd34-9fc9-4586-a3ef-046abc4edfbc",
   "metadata": {},
   "outputs": [],
   "source": [
    "import spiderpen as sp"
   ]
  },
  {
   "cell_type": "code",
   "execution_count": 2,
   "id": "0ade4ba7-c76a-421c-be33-9b4aa3dabb7e",
   "metadata": {},
   "outputs": [],
   "source": [
    "p = sp.Plotter(lenght=820, height=1140)"
   ]
  },
  {
   "cell_type": "code",
   "execution_count": 3,
   "id": "b6327fe3-4dfd-438b-a348-0216f37f8f2c",
   "metadata": {},
   "outputs": [],
   "source": [
    "Dx = (p.x_max - p.x_min)/2\n",
    "Dy = (p.y_max - p.y_min)/2"
   ]
  },
  {
   "cell_type": "code",
   "execution_count": 4,
   "id": "0a16a40e-7ea1-4354-8b47-85a07cba55a9",
   "metadata": {},
   "outputs": [
    {
     "data": {
      "image/png": "[encoded data removed]",
      "text/plain": [
       "<Figure size 432x288 with 1 Axes>"
      ]
     },
     "metadata": {
      "needs_background": "light"
     },
     "output_type": "display_data"
    }
   ],
   "source": [
    "p.clear()\n",
    "\n",
    "p.change_color()\n",
    "p.forward(Dx)\n",
    "p.forward(Dx)\n",
    "p.left()\n",
    "p.forward(Dy)\n",
    "p.forward(Dy)\n",
    "p.left()\n",
    "p.forward(Dx)\n",
    "p.forward(Dx)\n",
    "p.left()\n",
    "p.forward(Dy)\n",
    "p.left()\n",
    "p.forward(Dx)\n",
    "\n",
    "p.show()"
   ]
  },
  {
   "cell_type": "code",
   "execution_count": null,
   "id": "5244d6e3-6b27-4a45-8461-5b924a0c35bb",
   "metadata": {},
   "outputs": [],
   "source": [
    "p.connect(L_Gi=, L_Di=)"
   ]
  },
  {
   "cell_type": "code",
   "execution_count": null,
   "id": "a37e4f2b-00ab-418b-98d8-618748e7f968",
   "metadata": {},
   "outputs": [],
   "source": [
    "p.draw(fill_factor=1.0)\n",
    "\n",
    "p.path()"
   ]
  },
  {
   "cell_type": "code",
   "execution_count": null,
   "id": "c49330f3-c252-4e72-8078-dd279bd246d4",
   "metadata": {},
   "outputs": [],
   "source": [
    "p.disconnect()"
   ]
  },
  {
   "cell_type": "code",
   "execution_count": 26,
   "id": "a3d2ccd1-dd16-4488-b3d6-be28f907d32a",
   "metadata": {},
   "outputs": [
    {
     "name": "stdout",
     "output_type": "stream",
     "text": [
      "L_G = 710 ; L_D = 710\n",
      "Dx = 360.79999999999995 ; Dy = 327.0\n"
     ]
    }
   ],
   "source": [
    "print('L_G =', p.L_G, '; L_D =', p.L_D)\n",
    "print('Dx =', Dx, '; Dy =', Dy)"
   ]
  }
 ],
 "metadata": {
  "kernelspec": {
   "display_name": "Python 3 (ipykernel)",
   "language": "python",
   "name": "python3"
  },
  "language_info": {
   "codemirror_mode": {
    "name": "ipython",
    "version": 3
   },
   "file_extension": ".py",
   "mimetype": "text/x-python",
   "name": "python",
   "nbconvert_exporter": "python",
   "pygments_lexer": "ipython3",
   "version": "3.9.12"
  }
 },
 "nbformat": 4,
 "nbformat_minor": 5
}
